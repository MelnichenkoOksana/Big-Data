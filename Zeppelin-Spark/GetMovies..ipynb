﻿{
  "metadata": {
    "name": "GetMovies",
    "kernelspec": {
      "language": "scala",
      "name": "spark2-scala"
    },
    "language_info": {
      "codemirror_mode": "text/x-scala",
      "file_extension": ".scala",
      "mimetype": "text/x-scala",
      "name": "scala",
      "pygments_lexer": "scala"
    }
  },
  "nbformat": 4,
  "nbformat_minor": 2,
  "cells": [
    {
      "cell_type": "raw",
      "metadata": {
        "format": "text/plain"
      },
      "source": "%sh\n\nwget -c https://files.grouplens.org/datasets/movielens/ml-latest-small.zip -o /tmp/ml-latest-small.zip \ncd /tmp/\nsudo apt install unzip\nhdfs dfs -put ml-latest-small /tmp/\n\n"
    },
    {
      "cell_type": "raw",
      "metadata": {
        "format": "text/plain"
      },
      "source": "%pyspark\n\nglobal requested_year_from\nrequested_year_from \u003d 1990 \nglobal requested_year_to\nrequested_year_to \u003d 2020\nglobal requested_regexp\nrequested_regexp \u003d \"Y\"\nglobal requested_genres\nrequested_genres \u003d \"Comedy|Action\"  \nglobal requested_n\nrequested_n \u003d 3 \n\n                          "
    },
    {
      "cell_type": "markdown",
      "metadata": {},
      "source": "# Helper puthon functions:"
    },
    {
      "cell_type": "raw",
      "metadata": {
        "format": "text/plain"
      },
      "source": "%pyspark\nimport re\n\ndef get_reorganize_line_movies(movie_line):\n    \n    \"\"\"\n    takes: [movie_id, init_title, genres]\n    returns: [movie_id, (title, year, [genre_1, genre_2, ..., genre_n])]\n    \"\"\"\n\n    [movie_id, init_title, genres] \u003d movie_line\n\n    title_search_results \u003d re.sub(r\u0027\\(\\d{4}\\)\u0027, \u0027\u0027, init_title)\n    title \u003d title_search_results\n\n    year_str \u003d 0\n    year_search_results \u003d re.findall(r\u0027\\(\\d{4}\\)\u0027, init_title)\n    if year_search_results:\n        year_str \u003d year_search_results[0][1:-1]\n\n    genres_arr \u003d genres.split(\u0027|\u0027)\n\n    return [movie_id, (title, int(year_str), genres_arr)]"
    },
    {
      "cell_type": "raw",
      "metadata": {
        "format": "text/plain"
      },
      "source": "%pyspark\n\ndef get_reorganize_line_ratings(ratings_line):\n    \n    \"\"\"\n    takes: [userId, movieId, rating, timestamp]\n    returns: [movieId, rating]\n    \"\"\"\n    \n    [userId, movieId, rating, timestamp] \u003d ratings_line\n    \n    return [movieId, float(rating)]\n    "
    },
    {
      "cell_type": "raw",
      "metadata": {
        "format": "text/plain"
      },
      "source": "%pyspark\r\n\r\ndef check_by_year(line):\r\n    \r\n    \"\"\"\r\n    returns “true” if the film’s publication year matches the specified parameters\r\n    \"\"\"\r\n    \r\n    _, (_, year, _) \u003d line\r\n    \r\n    if int(requested_year_from) \u003c\u003d year \u003c\u003d int(requested_year_to):\r\n        return True\r\n    else:\r\n        return False"
    },
    {
      "cell_type": "raw",
      "metadata": {
        "format": "text/plain"
      },
      "source": "%pyspark\n\ndef check_by_regexp(line):\n    \"\"\"\n    returns “true” if the title of the movie contains an excerpt specified in the parameters\n    \"\"\"\n    \n    _, (title, _ , _) \u003d line\n    \n    if requested_regexp is None:\n        return True\n    elif requested_regexp in title:\n        return True\n    else:\n        return False"
    },
    {
      "cell_type": "raw",
      "metadata": {
        "format": "text/plain"
      },
      "source": "%pyspark\n\ndef check_by_genre(genre):\n    \n    \"\"\"\n    returns “true” if the genre of the movie matches the given\n    \"\"\"\n    if genre in requested_genres:\n        return True\n    else:\n        return False"
    },
    {
      "cell_type": "raw",
      "metadata": {
        "format": "text/plain"
      },
      "source": "%pyspark\n\ndef get_reorganize_genres(line):\n    \"\"\"\n    takes: _, ((title, year, [genre_1, genre_2, …, genre_n]), rating)\n    returns: (genre_1, (title, year, rating)), (genre_2, (title, year, rating)), …, (genre_n, (title, year, rating))\n    \"\"\"\n\n    _, ((title, year, genres), rating) \u003d line\n    \n    for genre in genres:\n        if check_by_genre(genre):\n            yield (genre, (title, year, rating))"
    },
    {
      "cell_type": "raw",
      "metadata": {
        "format": "text/plain"
      },
      "source": "%pyspark\n\ndef check_by_n(collection):\n    \"\"\"\n    returns the first n movies according to the specified parameters\n    \"\"\"\n    genre, values \u003d collection\n    \n    counter \u003d 0\n    for title, year, rating in list(values):\n        if counter \u003c requested_n:\n            counter +\u003d 1\n            yield \u0027{}; {}; {}; {}\u0027.format(genre, title, year, rating)\n        "
    },
    {
      "cell_type": "raw",
      "metadata": {
        "format": "text/plain"
      },
      "source": "%pyspark\nimport csv\n\nrdd_movies \u003d sc.textFile(\u0027/tmp/ml-latest-small/movies.csv\u0027).mapPartitions (lambda x: csv.reader(x))\nheader \u003d rdd_movies.first()\nrdd_movies \u003d rdd_movies.filter(lambda x: x !\u003d header)\n\nrdd_movies.take(5)\n"
    },
    {
      "cell_type": "raw",
      "metadata": {
        "format": "text/plain"
      },
      "source": "%pyspark\nimport re\n\nrdd_reorganize_movies \u003d rdd_movies.map(lambda x: get_reorganize_line_movies(x))\nrdd_reorganize_movies.take(5)"
    },
    {
      "cell_type": "raw",
      "metadata": {
        "format": "text/plain"
      },
      "source": "%pyspark\n\nrdd_filtred_movies \u003d rdd_reorganize_movies.filter(lambda x: check_by_regexp(x) and check_by_year(x))\nrdd_filtred_movies.take(5)"
    },
    {
      "cell_type": "raw",
      "metadata": {
        "format": "text/plain"
      },
      "source": "%pyspark\n\nrdd_ratings \u003d sc.textFile(\u0027/tmp/ml-latest-small/ratings.csv\u0027).mapPartitions (lambda x: csv.reader(x))\nheader \u003d rdd_ratings.first()\nrdd_ratings \u003d rdd_ratings.filter(lambda x: x !\u003d header)\n\n\nrdd_ratings.take(5)"
    },
    {
      "cell_type": "raw",
      "metadata": {
        "format": "text/plain"
      },
      "source": "%pyspark\n\nrdd_reorganize_ratings \u003d rdd_ratings.map(lambda x: get_reorganize_line_ratings(x))\nrdd_avg_ratings \u003d rdd_reorganize_ratings.groupByKey().map(lambda x: [x[0], list(x[1])]).map(lambda x: [x[0], round(sum(x[1]) / len(x[1]), 2)])\n\nrdd_avg_ratings.take(5)\n"
    },
    {
      "cell_type": "raw",
      "metadata": {
        "format": "text/plain"
      },
      "source": "%pyspark\n\nrdd_joined \u003d rdd_filtred_movies.join(rdd_avg_ratings)\n\nrdd_joined.take(5)"
    },
    {
      "cell_type": "raw",
      "metadata": {
        "format": "text/plain"
      },
      "source": "%pyspark\n\nrdd_normal_movies \u003d rdd_joined.flatMap(get_reorganize_genres)\n\nrdd_normal_movies.take(5)"
    },
    {
      "cell_type": "raw",
      "metadata": {
        "format": "text/plain"
      },
      "source": "%pyspark\n\nrdd_sorted_movies \u003d rdd_normal_movies.sortBy(lambda x: (-x[1][2], -x[1][1], x[1][0]))\nrdd_sorted_movies \u003d rdd_sorted_movies.groupByKey().sortBy(lambda x: x[0])\n\nrdd_sorted_movies \u003d rdd_sorted_movies.map(lambda x: (x[0], list(x[1])))\nrdd_sorted_movies.take(5)"
    },
    {
      "cell_type": "raw",
      "metadata": {
        "format": "text/plain"
      },
      "source": "%pyspark\n\nresult \u003d rdd_sorted_movies.flatMap(check_by_n)\nresult.collect()"
    },
    {
      "cell_type": "raw",
      "metadata": {
        "format": "text/plain"
      },
      "source": "%pyspark\n\nresult.saveAsTextFile(\u0027/result\u0027)"
    },
    {
      "cell_type": "raw",
      "metadata": {
        "format": "text/plain"
      },
      "source": "%sh\n\nhdfs dfs -cat /result/*"
    }
  ]
}